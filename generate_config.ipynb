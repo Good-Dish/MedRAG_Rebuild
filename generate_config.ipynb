{
 "cells": [
  {
   "cell_type": "code",
   "execution_count": null,
   "id": "3b5ceb41",
   "metadata": {},
   "outputs": [],
   "source": [
    "import yaml\n",
    "\n",
    "config = {\n",
    "    # database\n",
    "    \"database\": {\n",
    "        \"URI\": \"\",\n",
    "        \"user\": \"\",\n",
    "        \"password\": \"\",\n",
    "    },\n",
    "    # dataset\n",
    "    \"knowledge\": {\n",
    "        \"knowledge_name\": \"default\",\n",
    "    },\n",
    "    \"extract_keywords\": {\n",
    "        \"topk\" : 5,\n",
    "        \"keys\" : ('symptom')\n",
    "    },\n",
    "    \"embedding\":{\n",
    "        \"type\" : \"base\",\n",
    "        \"topk\" : 1\n",
    "    },\n",
    "    \"ask_LLM\":{\n",
    "        \"key\" : \"\"\n",
    "    }\n",
    "}\n",
    "\n",
    "yaml_file_path = \"config/CH.yaml\"\n",
    "\n",
    "# 将配置数据写入 YAML 文件\n",
    "try:\n",
    "    with open(yaml_file_path, 'w', encoding='utf-8') as yaml_file:\n",
    "        yaml.dump(config, yaml_file, allow_unicode=True, default_flow_style=False)\n",
    "    print(f\"Create {yaml_file_path} successfully!\")\n",
    "except Exception as e:\n",
    "    print(e)\n",
    "    "
   ]
  }
 ],
 "metadata": {
  "kernelspec": {
   "display_name": "medrag_rebuild",
   "language": "python",
   "name": "python3"
  },
  "language_info": {
   "name": "python",
   "version": "3.10.16"
  }
 },
 "nbformat": 4,
 "nbformat_minor": 5
}
